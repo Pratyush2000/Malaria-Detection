{
 "cells": [
  {
   "cell_type": "markdown",
   "id": "83cf7691",
   "metadata": {},
   "source": [
    "## Installing KERAS"
   ]
  },
  {
   "cell_type": "code",
   "execution_count": 3,
   "id": "4312b20b",
   "metadata": {
    "scrolled": false
   },
   "outputs": [
    {
     "name": "stderr",
     "output_type": "stream",
     "text": [
      "WARNING: You are using pip version 19.2.3, however version 21.1.3 is available.\n",
      "You should consider upgrading via the 'python -m pip install --upgrade pip' command.\n"
     ]
    }
   ],
   "source": [
    "! pip install -q keras"
   ]
  },
  {
   "cell_type": "markdown",
   "id": "0f491921",
   "metadata": {},
   "source": [
    "## Installing Tensorflow"
   ]
  },
  {
   "cell_type": "code",
   "execution_count": 2,
   "id": "74a1bc58",
   "metadata": {},
   "outputs": [
    {
     "name": "stdout",
     "output_type": "stream",
     "text": [
      "Collecting tensorflow\n",
      "  Using cached https://files.pythonhosted.org/packages/53/a9/15a5a338160e5e598a0eef385aa29e0ad3a64d62957abdaaf9ed6349c452/tensorflow-2.5.0-cp37-cp37m-win_amd64.whl\n",
      "Collecting astunparse~=1.6.3 (from tensorflow)\n",
      "  Using cached https://files.pythonhosted.org/packages/2b/03/13dde6512ad7b4557eb792fbcf0c653af6076b81e5941d36ec61f7ce6028/astunparse-1.6.3-py2.py3-none-any.whl\n",
      "Collecting gast==0.4.0 (from tensorflow)\n",
      "  Downloading https://files.pythonhosted.org/packages/b6/48/583c032b79ae5b3daa02225a675aeb673e58d2cb698e78510feceb11958c/gast-0.4.0-py3-none-any.whl\n",
      "Collecting grpcio~=1.34.0 (from tensorflow)\n",
      "  Downloading https://files.pythonhosted.org/packages/91/e8/f55bf28a975f30f3cb4fd31db7c84eb3ae1551628230cafd7cf33b02b732/grpcio-1.34.1-cp37-cp37m-win_amd64.whl (2.9MB)\n",
      "Collecting keras-nightly~=2.5.0.dev (from tensorflow)\n",
      "  Downloading https://files.pythonhosted.org/packages/aa/e7/53bc896aa4e11a87aac10a625c676b3a3d57d1c8d9929e4809d31fa0b7d5/keras_nightly-2.5.0.dev2021032900-py2.py3-none-any.whl (1.2MB)\n",
      "Collecting tensorflow-estimator<2.6.0,>=2.5.0rc0 (from tensorflow)\n",
      "  Downloading https://files.pythonhosted.org/packages/ec/78/b27f73e923becc6e79e18fe112cf75e3200d1ee35b0dba8fa46181bce56c/tensorflow_estimator-2.5.0-py2.py3-none-any.whl (462kB)\n",
      "Collecting six~=1.15.0 (from tensorflow)\n",
      "  Downloading https://files.pythonhosted.org/packages/ee/ff/48bde5c0f013094d729fe4b0316ba2a24774b3ff1c52d924a8a4cb04078a/six-1.15.0-py2.py3-none-any.whl\n",
      "Collecting typing-extensions~=3.7.4 (from tensorflow)\n",
      "  Using cached https://files.pythonhosted.org/packages/60/7a/e881b5abb54db0e6e671ab088d079c57ce54e8a01a3ca443f561ccadb37e/typing_extensions-3.7.4.3-py3-none-any.whl\n",
      "Collecting tensorboard~=2.5 (from tensorflow)\n",
      "Note: you may need to restart the kernel to use updated packages.\n"
     ]
    },
    {
     "name": "stderr",
     "output_type": "stream",
     "text": [
      "WARNING: You are using pip version 19.2.3, however version 21.1.3 is available.\n",
      "You should consider upgrading via the 'python -m pip install --upgrade pip' command.\n"
     ]
    },
    {
     "name": "stdout",
     "output_type": "stream",
     "text": [
      "  Using cached https://files.pythonhosted.org/packages/44/f5/7feea02a3fb54d5db827ac4b822a7ba8933826b36de21880518250b8733a/tensorboard-2.5.0-py3-none-any.whl\n",
      "Collecting wrapt~=1.12.1 (from tensorflow)\n",
      "  Using cached https://files.pythonhosted.org/packages/82/f7/e43cefbe88c5fd371f4cf0cf5eb3feccd07515af9fd6cf7dbf1d1793a797/wrapt-1.12.1.tar.gz\n",
      "Collecting h5py~=3.1.0 (from tensorflow)\n",
      "  Downloading https://files.pythonhosted.org/packages/53/c2/77bd81922264520b492bd7bfd1a51a845bc1187445408a7a83db284fd566/h5py-3.1.0-cp37-cp37m-win_amd64.whl (2.7MB)\n",
      "Collecting protobuf>=3.9.2 (from tensorflow)\n",
      "  Downloading https://files.pythonhosted.org/packages/fe/b6/0b5fedc572c8771aa4f4916f81ef404203bafbd7461e859c3338316ec016/protobuf-3.17.3-cp37-cp37m-win_amd64.whl (909kB)\n",
      "Collecting flatbuffers~=1.12.0 (from tensorflow)\n",
      "  Using cached https://files.pythonhosted.org/packages/eb/26/712e578c5f14e26ae3314c39a1bdc4eb2ec2f4ddc89b708cf8e0a0d20423/flatbuffers-1.12-py2.py3-none-any.whl\n",
      "Collecting opt-einsum~=3.3.0 (from tensorflow)\n",
      "  Using cached https://files.pythonhosted.org/packages/bc/19/404708a7e54ad2798907210462fd950c3442ea51acc8790f3da48d2bee8b/opt_einsum-3.3.0-py3-none-any.whl\n",
      "Collecting absl-py~=0.10 (from tensorflow)\n",
      "  Using cached https://files.pythonhosted.org/packages/23/47/835652c7e19530973c73c65e652fc53bd05725d5a7cf9bb8706777869c1e/absl_py-0.13.0-py3-none-any.whl\n",
      "Collecting keras-preprocessing~=1.1.2 (from tensorflow)\n",
      "  Using cached https://files.pythonhosted.org/packages/79/4c/7c3275a01e12ef9368a892926ab932b33bb13d55794881e3573482b378a7/Keras_Preprocessing-1.1.2-py2.py3-none-any.whl\n",
      "Collecting google-pasta~=0.2 (from tensorflow)\n",
      "  Using cached https://files.pythonhosted.org/packages/a3/de/c648ef6835192e6e2cc03f40b19eeda4382c49b5bafb43d88b931c4c74ac/google_pasta-0.2.0-py3-none-any.whl\n",
      "Requirement already satisfied: wheel~=0.35 in c:\\users\\praty\\appdata\\local\\programs\\python\\python37\\lib\\site-packages (from tensorflow) (0.36.2)\n",
      "Collecting termcolor~=1.1.0 (from tensorflow)\n",
      "  Using cached https://files.pythonhosted.org/packages/8a/48/a76be51647d0eb9f10e2a4511bf3ffb8cc1e6b14e9e4fab46173aa79f981/termcolor-1.1.0.tar.gz\n",
      "Collecting numpy~=1.19.2 (from tensorflow)\n",
      "  Downloading https://files.pythonhosted.org/packages/ff/18/60ac053857fb924b0324c81200b59c00317ebaa3c14b7478266b50ffed19/numpy-1.19.5-cp37-cp37m-win_amd64.whl (13.2MB)\n",
      "Collecting tensorboard-plugin-wit>=1.6.0 (from tensorboard~=2.5->tensorflow)\n",
      "  Using cached https://files.pythonhosted.org/packages/1a/c1/499e600ba0c618b451cd9c425ae1c177249940a2086316552fee7d86c954/tensorboard_plugin_wit-1.8.0-py3-none-any.whl\n",
      "Collecting markdown>=2.6.8 (from tensorboard~=2.5->tensorflow)\n",
      "  Using cached https://files.pythonhosted.org/packages/6e/33/1ae0f71395e618d6140fbbc9587cc3156591f748226075e0f7d6f9176522/Markdown-3.3.4-py3-none-any.whl\n",
      "Collecting werkzeug>=0.11.15 (from tensorboard~=2.5->tensorflow)\n",
      "  Downloading https://files.pythonhosted.org/packages/bd/24/11c3ea5a7e866bf2d97f0501d0b4b1c9bbeade102bb4b588f0d2919a5212/Werkzeug-2.0.1-py3-none-any.whl (288kB)\n",
      "Collecting google-auth<2,>=1.6.3 (from tensorboard~=2.5->tensorflow)\n",
      "  Downloading https://files.pythonhosted.org/packages/17/89/a11e6820a9fb7a2bb275a125bd01535776a801aa8964413bb3538e7c6f86/google_auth-1.33.0-py2.py3-none-any.whl (151kB)\n",
      "Collecting google-auth-oauthlib<0.5,>=0.4.1 (from tensorboard~=2.5->tensorflow)\n",
      "  Using cached https://files.pythonhosted.org/packages/9d/d3/7541e89f1fc456eef157224f597a8bba22589db6369a03eaba68c11f07a0/google_auth_oauthlib-0.4.4-py2.py3-none-any.whl\n",
      "Requirement already satisfied: setuptools>=41.0.0 in c:\\users\\praty\\appdata\\local\\programs\\python\\python37\\lib\\site-packages (from tensorboard~=2.5->tensorflow) (41.2.0)\n",
      "Collecting tensorboard-data-server<0.7.0,>=0.6.0 (from tensorboard~=2.5->tensorflow)\n",
      "  Using cached https://files.pythonhosted.org/packages/74/69/5747a957f95e2e1d252ca41476ae40ce79d70d38151d2e494feb7722860c/tensorboard_data_server-0.6.1-py3-none-any.whl\n",
      "Collecting requests<3,>=2.21.0 (from tensorboard~=2.5->tensorflow)\n",
      "  Downloading https://files.pythonhosted.org/packages/92/96/144f70b972a9c0eabbd4391ef93ccd49d0f2747f4f6a2a2738e99e5adc65/requests-2.26.0-py2.py3-none-any.whl (62kB)\n",
      "Requirement already satisfied: cached-property; python_version < \"3.8\" in c:\\users\\praty\\appdata\\local\\programs\\python\\python37\\lib\\site-packages (from h5py~=3.1.0->tensorflow) (1.5.2)\n",
      "Requirement already satisfied: importlib-metadata; python_version < \"3.8\" in c:\\users\\praty\\appdata\\local\\programs\\python\\python37\\lib\\site-packages (from markdown>=2.6.8->tensorboard~=2.5->tensorflow) (4.5.0)\n",
      "Collecting pyasn1-modules>=0.2.1 (from google-auth<2,>=1.6.3->tensorboard~=2.5->tensorflow)\n",
      "  Using cached https://files.pythonhosted.org/packages/95/de/214830a981892a3e286c3794f41ae67a4495df1108c3da8a9f62159b9a9d/pyasn1_modules-0.2.8-py2.py3-none-any.whl\n",
      "Collecting cachetools<5.0,>=2.0.0 (from google-auth<2,>=1.6.3->tensorboard~=2.5->tensorflow)\n",
      "  Using cached https://files.pythonhosted.org/packages/bf/28/c4f5796c67ad06bb91d98d543a5e01805c1ff065e08871f78e52d2a331ad/cachetools-4.2.2-py3-none-any.whl\n",
      "Collecting rsa<5,>=3.1.4; python_version >= \"3.6\" (from google-auth<2,>=1.6.3->tensorboard~=2.5->tensorflow)\n",
      "  Using cached https://files.pythonhosted.org/packages/e9/93/0c0f002031f18b53af7a6166103c02b9c0667be528944137cc954ec921b3/rsa-4.7.2-py3-none-any.whl\n",
      "Collecting requests-oauthlib>=0.7.0 (from google-auth-oauthlib<0.5,>=0.4.1->tensorboard~=2.5->tensorflow)\n",
      "  Using cached https://files.pythonhosted.org/packages/a3/12/b92740d845ab62ea4edf04d2f4164d82532b5a0b03836d4d4e71c6f3d379/requests_oauthlib-1.3.0-py2.py3-none-any.whl\n",
      "Collecting charset-normalizer~=2.0.0; python_version >= \"3\" (from requests<3,>=2.21.0->tensorboard~=2.5->tensorflow)\n",
      "  Downloading https://files.pythonhosted.org/packages/c4/1d/e6ce112f7237fc746e632e1cbdc24890cad95505c6cd4b711f4fd17f4735/charset_normalizer-2.0.3-py3-none-any.whl\n",
      "Collecting idna<4,>=2.5; python_version >= \"3\" (from requests<3,>=2.21.0->tensorboard~=2.5->tensorflow)\n",
      "  Downloading https://files.pythonhosted.org/packages/d7/77/ff688d1504cdc4db2a938e2b7b9adee5dd52e34efbd2431051efc9984de9/idna-3.2-py3-none-any.whl (59kB)\n",
      "Collecting urllib3<1.27,>=1.21.1 (from requests<3,>=2.21.0->tensorboard~=2.5->tensorflow)\n",
      "  Downloading https://files.pythonhosted.org/packages/5f/64/43575537846896abac0b15c3e5ac678d787a4021e906703f1766bfb8ea11/urllib3-1.26.6-py2.py3-none-any.whl (138kB)\n",
      "Collecting certifi>=2017.4.17 (from requests<3,>=2.21.0->tensorboard~=2.5->tensorflow)\n",
      "  Downloading https://files.pythonhosted.org/packages/05/1b/0a0dece0e8aa492a6ec9e4ad2fe366b511558cdc73fd3abc82ba7348e875/certifi-2021.5.30-py2.py3-none-any.whl (145kB)\n",
      "Requirement already satisfied: zipp>=0.5 in c:\\users\\praty\\appdata\\local\\programs\\python\\python37\\lib\\site-packages (from importlib-metadata; python_version < \"3.8\"->markdown>=2.6.8->tensorboard~=2.5->tensorflow) (3.4.1)\n",
      "Collecting pyasn1<0.5.0,>=0.4.6 (from pyasn1-modules>=0.2.1->google-auth<2,>=1.6.3->tensorboard~=2.5->tensorflow)\n",
      "  Using cached https://files.pythonhosted.org/packages/62/1e/a94a8d635fa3ce4cfc7f506003548d0a2447ae76fd5ca53932970fe3053f/pyasn1-0.4.8-py2.py3-none-any.whl\n",
      "Collecting oauthlib>=3.0.0 (from requests-oauthlib>=0.7.0->google-auth-oauthlib<0.5,>=0.4.1->tensorboard~=2.5->tensorflow)\n",
      "  Using cached https://files.pythonhosted.org/packages/e8/5d/9dd1c29e5a786525f6342f6c1d812ed2e37edc653ad297048c1668988053/oauthlib-3.1.1-py2.py3-none-any.whl\n",
      "Building wheels for collected packages: wrapt, termcolor\n",
      "  Building wheel for wrapt (setup.py): started\n",
      "  Building wheel for wrapt (setup.py): finished with status 'done'\n",
      "  Created wheel for wrapt: filename=wrapt-1.12.1-cp37-none-any.whl size=19554 sha256=3f64b2b63c75f42957a3601274d84380c5bdd1c865465568ae7eb02a73ee89a1\n",
      "  Stored in directory: C:\\Users\\praty\\AppData\\Local\\pip\\Cache\\wheels\\b1\\c2\\ed\\d62208260edbd3fa7156545c00ef966f45f2063d0a84f8208a\n",
      "  Building wheel for termcolor (setup.py): started\n",
      "  Building wheel for termcolor (setup.py): finished with status 'done'\n",
      "  Created wheel for termcolor: filename=termcolor-1.1.0-cp37-none-any.whl size=4832 sha256=33eac955d79777abd65e97d56d3c9eee982e5c164157ab8484b8391209fb35d6\n",
      "  Stored in directory: C:\\Users\\praty\\AppData\\Local\\pip\\Cache\\wheels\\7c\\06\\54\\bc84598ba1daf8f970247f550b175aaaee85f68b4b0c5ab2c6\n",
      "Successfully built wrapt termcolor\n",
      "Installing collected packages: six, astunparse, gast, grpcio, keras-nightly, tensorflow-estimator, typing-extensions, tensorboard-plugin-wit, markdown, protobuf, werkzeug, absl-py, pyasn1, pyasn1-modules, cachetools, rsa, google-auth, numpy, oauthlib, charset-normalizer, idna, urllib3, certifi, requests, requests-oauthlib, google-auth-oauthlib, tensorboard-data-server, tensorboard, wrapt, h5py, flatbuffers, opt-einsum, keras-preprocessing, google-pasta, termcolor, tensorflow\n",
      "  Found existing installation: six 1.16.0\n",
      "    Uninstalling six-1.16.0:\n",
      "      Successfully uninstalled six-1.16.0\n",
      "  Found existing installation: typing-extensions 3.10.0.0\n",
      "    Uninstalling typing-extensions-3.10.0.0:\n",
      "      Successfully uninstalled typing-extensions-3.10.0.0\n",
      "  Found existing installation: numpy 1.20.3\n",
      "    Uninstalling numpy-1.20.3:\n",
      "      Successfully uninstalled numpy-1.20.3\n",
      "  Found existing installation: h5py 3.3.0\n",
      "    Uninstalling h5py-3.3.0:\n",
      "      Successfully uninstalled h5py-3.3.0\n",
      "Successfully installed absl-py-0.13.0 astunparse-1.6.3 cachetools-4.2.2 certifi-2021.5.30 charset-normalizer-2.0.3 flatbuffers-1.12 gast-0.4.0 google-auth-1.33.0 google-auth-oauthlib-0.4.4 google-pasta-0.2.0 grpcio-1.34.1 h5py-3.1.0 idna-3.2 keras-nightly-2.5.0.dev2021032900 keras-preprocessing-1.1.2 markdown-3.3.4 numpy-1.19.5 oauthlib-3.1.1 opt-einsum-3.3.0 protobuf-3.17.3 pyasn1-0.4.8 pyasn1-modules-0.2.8 requests-2.26.0 requests-oauthlib-1.3.0 rsa-4.7.2 six-1.15.0 tensorboard-2.5.0 tensorboard-data-server-0.6.1 tensorboard-plugin-wit-1.8.0 tensorflow-2.5.0 tensorflow-estimator-2.5.0 termcolor-1.1.0 typing-extensions-3.7.4.3 urllib3-1.26.6 werkzeug-2.0.1 wrapt-1.12.1\n"
     ]
    }
   ],
   "source": [
    "pip install tensorflow"
   ]
  },
  {
   "cell_type": "code",
   "execution_count": 3,
   "id": "97c5a2c8",
   "metadata": {},
   "outputs": [],
   "source": [
    "from tensorflow.keras.layers import Input, Lambda, Dense, Flatten,Conv2D\n",
    "from tensorflow.keras.models import Model\n",
    "from tensorflow.keras.applications.vgg19 import VGG19\n",
    "from tensorflow.keras.applications.resnet50 import preprocess_input\n",
    "from tensorflow.keras.preprocessing import image\n",
    "from tensorflow.keras.preprocessing.image import ImageDataGenerator,load_img\n",
    "from tensorflow.keras.models import Sequential\n",
    "import numpy as np\n",
    "from glob import glob\n",
    "import matplotlib.pyplot as plt"
   ]
  },
  {
   "cell_type": "code",
   "execution_count": 9,
   "id": "14bfef79",
   "metadata": {},
   "outputs": [],
   "source": [
    "IMAGE_SIZE = [224, 224]\n",
    "\n",
    "train_path = 'Dataset/Train'\n",
    "valid_path = 'Dataset/Test'"
   ]
  },
  {
   "cell_type": "markdown",
   "id": "a0e53522",
   "metadata": {},
   "source": [
    "## Importing VGG19 for pre trained weights and not including top and bottom layer"
   ]
  },
  {
   "cell_type": "code",
   "execution_count": 5,
   "id": "4ed1508c",
   "metadata": {},
   "outputs": [
    {
     "name": "stdout",
     "output_type": "stream",
     "text": [
      "Downloading data from https://storage.googleapis.com/tensorflow/keras-applications/vgg19/vgg19_weights_tf_dim_ordering_tf_kernels_notop.h5\n",
      "80142336/80134624 [==============================] - 51s 1us/step\n"
     ]
    }
   ],
   "source": [
    "vgg = VGG19(input_shape=IMAGE_SIZE + [3], weights='imagenet', include_top=False)"
   ]
  },
  {
   "cell_type": "markdown",
   "id": "6473ff99",
   "metadata": {},
   "source": [
    "### The weights are already trained"
   ]
  },
  {
   "cell_type": "code",
   "execution_count": 6,
   "id": "ecd88303",
   "metadata": {},
   "outputs": [],
   "source": [
    "for layer in vgg.layers:\n",
    "    layer.trainable = False"
   ]
  },
  {
   "cell_type": "markdown",
   "id": "731d38b6",
   "metadata": {},
   "source": [
    "Folders is a list containing the paths of all the output classes. In our case there are 2 outputs - parasitized and uninfected."
   ]
  },
  {
   "cell_type": "code",
   "execution_count": 10,
   "id": "f9ce6789",
   "metadata": {},
   "outputs": [],
   "source": [
    "folders = glob('Dataset/Train/*')"
   ]
  },
  {
   "cell_type": "code",
   "execution_count": 11,
   "id": "6fdee5de",
   "metadata": {},
   "outputs": [
    {
     "data": {
      "text/plain": [
       "['Dataset/Train\\\\Parasite', 'Dataset/Train\\\\Uninfected']"
      ]
     },
     "execution_count": 11,
     "metadata": {},
     "output_type": "execute_result"
    }
   ],
   "source": [
    "folders"
   ]
  },
  {
   "cell_type": "markdown",
   "id": "ebc8aade",
   "metadata": {},
   "source": [
    "second last layer weights are converted into a vector"
   ]
  },
  {
   "cell_type": "code",
   "execution_count": 12,
   "id": "28b658a4",
   "metadata": {},
   "outputs": [],
   "source": [
    "x = Flatten()(vgg.output)"
   ]
  },
  {
   "cell_type": "markdown",
   "id": "d09f4120",
   "metadata": {},
   "source": [
    "### Adding output layer i.e. softmax activation function"
   ]
  },
  {
   "cell_type": "markdown",
   "id": "1e8200e3",
   "metadata": {},
   "source": [
    "last layer is added after second last layer where length = length of folders list length, it's dense and with softmax activation."
   ]
  },
  {
   "cell_type": "code",
   "execution_count": 13,
   "id": "f4aa1e6a",
   "metadata": {},
   "outputs": [],
   "source": [
    "prediction = Dense(len(folders), activation='softmax')(x)\n",
    "model = Model(inputs=vgg.input, outputs=prediction)"
   ]
  },
  {
   "cell_type": "markdown",
   "id": "5460638b",
   "metadata": {},
   "source": [
    "Complete Structure of model"
   ]
  },
  {
   "cell_type": "code",
   "execution_count": 14,
   "id": "eb7b6582",
   "metadata": {
    "scrolled": false
   },
   "outputs": [
    {
     "name": "stdout",
     "output_type": "stream",
     "text": [
      "Model: \"model\"\n",
      "_________________________________________________________________\n",
      "Layer (type)                 Output Shape              Param #   \n",
      "=================================================================\n",
      "input_1 (InputLayer)         [(None, 224, 224, 3)]     0         \n",
      "_________________________________________________________________\n",
      "block1_conv1 (Conv2D)        (None, 224, 224, 64)      1792      \n",
      "_________________________________________________________________\n",
      "block1_conv2 (Conv2D)        (None, 224, 224, 64)      36928     \n",
      "_________________________________________________________________\n",
      "block1_pool (MaxPooling2D)   (None, 112, 112, 64)      0         \n",
      "_________________________________________________________________\n",
      "block2_conv1 (Conv2D)        (None, 112, 112, 128)     73856     \n",
      "_________________________________________________________________\n",
      "block2_conv2 (Conv2D)        (None, 112, 112, 128)     147584    \n",
      "_________________________________________________________________\n",
      "block2_pool (MaxPooling2D)   (None, 56, 56, 128)       0         \n",
      "_________________________________________________________________\n",
      "block3_conv1 (Conv2D)        (None, 56, 56, 256)       295168    \n",
      "_________________________________________________________________\n",
      "block3_conv2 (Conv2D)        (None, 56, 56, 256)       590080    \n",
      "_________________________________________________________________\n",
      "block3_conv3 (Conv2D)        (None, 56, 56, 256)       590080    \n",
      "_________________________________________________________________\n",
      "block3_conv4 (Conv2D)        (None, 56, 56, 256)       590080    \n",
      "_________________________________________________________________\n",
      "block3_pool (MaxPooling2D)   (None, 28, 28, 256)       0         \n",
      "_________________________________________________________________\n",
      "block4_conv1 (Conv2D)        (None, 28, 28, 512)       1180160   \n",
      "_________________________________________________________________\n",
      "block4_conv2 (Conv2D)        (None, 28, 28, 512)       2359808   \n",
      "_________________________________________________________________\n",
      "block4_conv3 (Conv2D)        (None, 28, 28, 512)       2359808   \n",
      "_________________________________________________________________\n",
      "block4_conv4 (Conv2D)        (None, 28, 28, 512)       2359808   \n",
      "_________________________________________________________________\n",
      "block4_pool (MaxPooling2D)   (None, 14, 14, 512)       0         \n",
      "_________________________________________________________________\n",
      "block5_conv1 (Conv2D)        (None, 14, 14, 512)       2359808   \n",
      "_________________________________________________________________\n",
      "block5_conv2 (Conv2D)        (None, 14, 14, 512)       2359808   \n",
      "_________________________________________________________________\n",
      "block5_conv3 (Conv2D)        (None, 14, 14, 512)       2359808   \n",
      "_________________________________________________________________\n",
      "block5_conv4 (Conv2D)        (None, 14, 14, 512)       2359808   \n",
      "_________________________________________________________________\n",
      "block5_pool (MaxPooling2D)   (None, 7, 7, 512)         0         \n",
      "_________________________________________________________________\n",
      "flatten (Flatten)            (None, 25088)             0         \n",
      "_________________________________________________________________\n",
      "dense (Dense)                (None, 2)                 50178     \n",
      "=================================================================\n",
      "Total params: 20,074,562\n",
      "Trainable params: 50,178\n",
      "Non-trainable params: 20,024,384\n",
      "_________________________________________________________________\n"
     ]
    }
   ],
   "source": [
    "model.summary()"
   ]
  },
  {
   "cell_type": "markdown",
   "id": "da5bc105",
   "metadata": {},
   "source": [
    "Now the model is compiled where optimizer(algorithm that updates weights in order to reach the global minimum of loss function) is adam, loss is of type categorical_crossentropy(based on probability of occuring of that output) and matrix is of type accuracy."
   ]
  },
  {
   "cell_type": "code",
   "execution_count": 15,
   "id": "92717027",
   "metadata": {},
   "outputs": [],
   "source": [
    "model.compile(\n",
    "  loss='categorical_crossentropy',\n",
    "  optimizer='adam',\n",
    "  metrics=['accuracy']\n",
    ")"
   ]
  },
  {
   "cell_type": "markdown",
   "id": "4b1081dc",
   "metadata": {},
   "source": [
    "ImageDataGenerator is a class in tensorflow responsible for labeling data to the name as of the folder in which it is present. It is also used for data augmentation and rescaling."
   ]
  },
  {
   "cell_type": "code",
   "execution_count": 16,
   "id": "e1079118",
   "metadata": {},
   "outputs": [],
   "source": [
    "from tensorflow.keras.preprocessing.image import ImageDataGenerator\n",
    "\n",
    "train_datagen = ImageDataGenerator(rescale = 1./255,\n",
    "                                   shear_range = 0.2,\n",
    "                                   zoom_range = 0.2,\n",
    "                                   horizontal_flip = True)\n",
    "\n",
    "test_datagen = ImageDataGenerator(rescale = 1./255)"
   ]
  },
  {
   "cell_type": "code",
   "execution_count": 18,
   "id": "14b41458",
   "metadata": {},
   "outputs": [
    {
     "name": "stdout",
     "output_type": "stream",
     "text": [
      "Found 416 images belonging to 2 classes.\n"
     ]
    }
   ],
   "source": [
    "training_set = train_datagen.flow_from_directory('Dataset/Train',\n",
    "                                                 target_size = (224, 224),\n",
    "                                                 batch_size = 32,\n",
    "                                                 class_mode = 'categorical')"
   ]
  },
  {
   "cell_type": "code",
   "execution_count": 19,
   "id": "e406d794",
   "metadata": {},
   "outputs": [
    {
     "data": {
      "text/plain": [
       "<tensorflow.python.keras.preprocessing.image.DirectoryIterator at 0x1b9c6fe5088>"
      ]
     },
     "execution_count": 19,
     "metadata": {},
     "output_type": "execute_result"
    }
   ],
   "source": [
    "training_set"
   ]
  },
  {
   "cell_type": "code",
   "execution_count": 20,
   "id": "73032cef",
   "metadata": {},
   "outputs": [
    {
     "name": "stdout",
     "output_type": "stream",
     "text": [
      "Found 134 images belonging to 2 classes.\n"
     ]
    }
   ],
   "source": [
    "test_set = test_datagen.flow_from_directory('Dataset/Test',\n",
    "                                            target_size = (224, 224),\n",
    "                                            batch_size = 32,\n",
    "                                            class_mode = 'categorical')"
   ]
  },
  {
   "cell_type": "markdown",
   "id": "db7e1db4",
   "metadata": {},
   "source": [
    "Now the model is trained on the trainig_set. Validation or test_set is also provided so that the error or accuracy on test_set is calculated after every epoch."
   ]
  },
  {
   "cell_type": "code",
   "execution_count": 23,
   "id": "43c1d64f",
   "metadata": {},
   "outputs": [
    {
     "name": "stdout",
     "output_type": "stream",
     "text": [
      "Epoch 1/20\n",
      "13/13 [==============================] - 83s 6s/step - loss: 0.1499 - accuracy: 0.9567 - val_loss: 0.3759 - val_accuracy: 0.7985\n",
      "Epoch 2/20\n",
      "13/13 [==============================] - 85s 7s/step - loss: 0.1449 - accuracy: 0.9591 - val_loss: 0.2099 - val_accuracy: 0.9403\n",
      "Epoch 3/20\n",
      "13/13 [==============================] - 92s 7s/step - loss: 0.1565 - accuracy: 0.9495 - val_loss: 0.3499 - val_accuracy: 0.7910\n",
      "Epoch 4/20\n",
      "13/13 [==============================] - 94s 7s/step - loss: 0.1400 - accuracy: 0.9591 - val_loss: 0.2276 - val_accuracy: 0.9328\n",
      "Epoch 5/20\n",
      "13/13 [==============================] - 90s 7s/step - loss: 0.1149 - accuracy: 0.9760 - val_loss: 0.3165 - val_accuracy: 0.8433\n",
      "Epoch 6/20\n",
      "13/13 [==============================] - 85s 7s/step - loss: 0.1256 - accuracy: 0.9688 - val_loss: 0.2632 - val_accuracy: 0.8955\n",
      "Epoch 7/20\n",
      "13/13 [==============================] - 85s 7s/step - loss: 0.1257 - accuracy: 0.9615 - val_loss: 0.2401 - val_accuracy: 0.9254\n",
      "Epoch 8/20\n",
      "13/13 [==============================] - 85s 7s/step - loss: 0.1189 - accuracy: 0.9663 - val_loss: 0.3857 - val_accuracy: 0.7985\n",
      "Epoch 9/20\n",
      "13/13 [==============================] - 85s 7s/step - loss: 0.1129 - accuracy: 0.9712 - val_loss: 0.2173 - val_accuracy: 0.9179\n",
      "Epoch 10/20\n",
      "13/13 [==============================] - 86s 7s/step - loss: 0.1230 - accuracy: 0.9567 - val_loss: 0.3520 - val_accuracy: 0.8284\n",
      "Epoch 11/20\n",
      "13/13 [==============================] - 86s 7s/step - loss: 0.1243 - accuracy: 0.9471 - val_loss: 0.2228 - val_accuracy: 0.9328\n",
      "Epoch 12/20\n",
      "13/13 [==============================] - 85s 7s/step - loss: 0.1388 - accuracy: 0.9615 - val_loss: 0.2481 - val_accuracy: 0.9030\n",
      "Epoch 13/20\n",
      "13/13 [==============================] - 86s 7s/step - loss: 0.1465 - accuracy: 0.9471 - val_loss: 0.2603 - val_accuracy: 0.8731\n",
      "Epoch 14/20\n",
      "13/13 [==============================] - 85s 7s/step - loss: 0.1367 - accuracy: 0.9471 - val_loss: 0.3965 - val_accuracy: 0.7985\n",
      "Epoch 15/20\n",
      "13/13 [==============================] - 85s 7s/step - loss: 0.1113 - accuracy: 0.9663 - val_loss: 0.2013 - val_accuracy: 0.9104\n",
      "Epoch 16/20\n",
      "13/13 [==============================] - 85s 7s/step - loss: 0.1061 - accuracy: 0.9615 - val_loss: 0.3004 - val_accuracy: 0.8507\n",
      "Epoch 17/20\n",
      "13/13 [==============================] - 84s 7s/step - loss: 0.0846 - accuracy: 0.9760 - val_loss: 0.2049 - val_accuracy: 0.8955\n",
      "Epoch 18/20\n",
      "13/13 [==============================] - 83s 6s/step - loss: 0.1151 - accuracy: 0.9639 - val_loss: 0.1770 - val_accuracy: 0.9478\n",
      "Epoch 19/20\n",
      "13/13 [==============================] - 83s 6s/step - loss: 0.0783 - accuracy: 0.9784 - val_loss: 0.2482 - val_accuracy: 0.8955\n",
      "Epoch 20/20\n",
      "13/13 [==============================] - 87s 7s/step - loss: 0.0846 - accuracy: 0.9760 - val_loss: 0.2841 - val_accuracy: 0.8731\n"
     ]
    }
   ],
   "source": [
    "r = model.fit_generator(\n",
    "  training_set,\n",
    "  validation_data=test_set,\n",
    "  epochs=20,\n",
    "  steps_per_epoch=len(training_set),\n",
    "  validation_steps=len(test_set)\n",
    ")"
   ]
  },
  {
   "cell_type": "code",
   "execution_count": 24,
   "id": "fac606bd",
   "metadata": {},
   "outputs": [
    {
     "data": {
      "image/png": "[encoded data removed]",
      "text/plain": [
       "<Figure size 432x288 with 1 Axes>"
      ]
     },
     "metadata": {
      "needs_background": "light"
     },
     "output_type": "display_data"
    },
    {
     "data": {
      "image/png": "[encoded data removed]",
      "text/plain": [
       "<Figure size 432x288 with 1 Axes>"
      ]
     },
     "metadata": {
      "needs_background": "light"
     },
     "output_type": "display_data"
    },
    {
     "data": {
      "text/plain": [
       "<Figure size 432x288 with 0 Axes>"
      ]
     },
     "metadata": {},
     "output_type": "display_data"
    }
   ],
   "source": [
    "# plot the loss\n",
    "plt.plot(r.history['loss'], label='train loss')\n",
    "plt.plot(r.history['val_loss'], label='val loss')\n",
    "plt.legend()\n",
    "plt.show()\n",
    "plt.savefig('LossVal_loss')\n",
    "\n",
    "# plot the accuracy\n",
    "plt.plot(r.history['accuracy'], label='train acc')\n",
    "plt.plot(r.history['val_accuracy'], label='val acc')\n",
    "plt.legend()\n",
    "plt.show()\n",
    "plt.savefig('AccVal_acc')"
   ]
  },
  {
   "cell_type": "markdown",
   "id": "e3ed2d84",
   "metadata": {},
   "source": [
    "## Saving the trained model"
   ]
  },
  {
   "cell_type": "code",
   "execution_count": 25,
   "id": "33eb76d0",
   "metadata": {},
   "outputs": [],
   "source": [
    "from tensorflow.keras.models import load_model\n",
    "\n",
    "model.save('model_vgg19.h5')"
   ]
  },
  {
   "cell_type": "markdown",
   "id": "e0d6c9df",
   "metadata": {},
   "source": [
    "### Predicting on test set"
   ]
  },
  {
   "cell_type": "code",
   "execution_count": 26,
   "id": "64c8b560",
   "metadata": {},
   "outputs": [],
   "source": [
    "y_pred = model.predict(test_set)"
   ]
  },
  {
   "cell_type": "code",
   "execution_count": 27,
   "id": "02b513ce",
   "metadata": {},
   "outputs": [
    {
     "data": {
      "text/plain": [
       "array([[6.80168152e-01, 3.19831878e-01],\n",
       "       [9.69869375e-01, 3.01305521e-02],\n",
       "       [9.98699069e-01, 1.30095065e-03],\n",
       "       [7.73113593e-02, 9.22688603e-01],\n",
       "       [8.06231499e-02, 9.19376910e-01],\n",
       "       [9.97626841e-01, 2.37312750e-03],\n",
       "       [1.53665245e-01, 8.46334755e-01],\n",
       "       [4.38919663e-02, 9.56108034e-01],\n",
       "       [2.28455752e-01, 7.71544278e-01],\n",
       "       [8.05996209e-02, 9.19400334e-01],\n",
       "       [3.92810144e-02, 9.60718989e-01],\n",
       "       [9.99999762e-01, 2.72160747e-07],\n",
       "       [5.83430640e-02, 9.41656947e-01],\n",
       "       [2.01819986e-01, 7.98180044e-01],\n",
       "       [8.30174506e-01, 1.69825464e-01],\n",
       "       [4.86478597e-01, 5.13521433e-01],\n",
       "       [6.37049556e-01, 3.62950444e-01],\n",
       "       [9.75603104e-01, 2.43969634e-02],\n",
       "       [9.11913872e-01, 8.80861953e-02],\n",
       "       [1.03909917e-01, 8.96090150e-01],\n",
       "       [1.08594730e-01, 8.91405225e-01],\n",
       "       [7.09113777e-01, 2.90886283e-01],\n",
       "       [2.58000106e-01, 7.41999865e-01],\n",
       "       [2.72284616e-02, 9.72771585e-01],\n",
       "       [6.27492666e-02, 9.37250733e-01],\n",
       "       [9.23521101e-01, 7.64789209e-02],\n",
       "       [2.83962116e-02, 9.71603870e-01],\n",
       "       [9.09654975e-01, 9.03450027e-02],\n",
       "       [9.99999762e-01, 2.02926188e-07],\n",
       "       [5.93195319e-01, 4.06804711e-01],\n",
       "       [9.99115646e-01, 8.84351844e-04],\n",
       "       [9.99108732e-01, 8.91209929e-04],\n",
       "       [2.35217214e-02, 9.76478338e-01],\n",
       "       [7.46481836e-01, 2.53518224e-01],\n",
       "       [6.20757118e-02, 9.37924266e-01],\n",
       "       [9.11320031e-01, 8.86799991e-02],\n",
       "       [4.85530347e-02, 9.51446950e-01],\n",
       "       [3.57469290e-01, 6.42530680e-01],\n",
       "       [9.99428093e-01, 5.71926183e-04],\n",
       "       [9.48941428e-03, 9.90510523e-01],\n",
       "       [4.78261262e-01, 5.21738768e-01],\n",
       "       [8.77519786e-01, 1.22480206e-01],\n",
       "       [9.46675479e-01, 5.33244498e-02],\n",
       "       [9.99707758e-01, 2.92217155e-04],\n",
       "       [8.07313859e-01, 1.92686141e-01],\n",
       "       [4.82667200e-02, 9.51733351e-01],\n",
       "       [5.97677100e-03, 9.94023263e-01],\n",
       "       [9.99955654e-01, 4.43204881e-05],\n",
       "       [3.75411600e-01, 6.24588370e-01],\n",
       "       [1.21119861e-02, 9.87888038e-01],\n",
       "       [9.15970653e-03, 9.90840256e-01],\n",
       "       [9.61107731e-01, 3.88922095e-02],\n",
       "       [2.90638991e-02, 9.70936060e-01],\n",
       "       [9.99981761e-01, 1.82477525e-05],\n",
       "       [9.99642491e-01, 3.57486744e-04],\n",
       "       [6.31301284e-01, 3.68698686e-01],\n",
       "       [9.85457361e-01, 1.45426160e-02],\n",
       "       [9.99432147e-01, 5.67839073e-04],\n",
       "       [4.22326550e-02, 9.57767308e-01],\n",
       "       [9.99894142e-01, 1.05848223e-04],\n",
       "       [9.14974332e-01, 8.50256979e-02],\n",
       "       [9.95853543e-01, 4.14645998e-03],\n",
       "       [5.00314176e-01, 4.99685794e-01],\n",
       "       [9.99596179e-01, 4.03805752e-04],\n",
       "       [1.79488361e-02, 9.82051134e-01],\n",
       "       [7.32414797e-03, 9.92675841e-01],\n",
       "       [9.98918056e-01, 1.08194095e-03],\n",
       "       [9.98926938e-01, 1.07301283e-03],\n",
       "       [9.98716235e-01, 1.28380314e-03],\n",
       "       [5.44588149e-01, 4.55411881e-01],\n",
       "       [9.71153796e-01, 2.88461559e-02],\n",
       "       [1.99754104e-01, 8.00245881e-01],\n",
       "       [3.80639434e-02, 9.61936116e-01],\n",
       "       [3.62698245e-03, 9.96373057e-01],\n",
       "       [9.66592729e-01, 3.34072448e-02],\n",
       "       [4.15506542e-01, 5.84493458e-01],\n",
       "       [9.99031544e-01, 9.68476466e-04],\n",
       "       [7.36969292e-01, 2.63030767e-01],\n",
       "       [9.16770101e-01, 8.32298249e-02],\n",
       "       [8.72562602e-02, 9.12743747e-01],\n",
       "       [3.37838195e-02, 9.66216207e-01],\n",
       "       [3.81289348e-02, 9.61871028e-01],\n",
       "       [9.99564230e-01, 4.35738970e-04],\n",
       "       [8.28521669e-01, 1.71478301e-01],\n",
       "       [9.96848404e-01, 3.15156067e-03],\n",
       "       [3.85565720e-02, 9.61443365e-01],\n",
       "       [8.38281866e-03, 9.91617143e-01],\n",
       "       [7.05811456e-02, 9.29418802e-01],\n",
       "       [5.68456113e-01, 4.31543857e-01],\n",
       "       [2.12823078e-01, 7.87176967e-01],\n",
       "       [2.28533253e-01, 7.71466792e-01],\n",
       "       [2.21077204e-02, 9.77892220e-01],\n",
       "       [9.99136388e-01, 8.63597961e-04],\n",
       "       [2.33841352e-02, 9.76615906e-01],\n",
       "       [4.87674624e-02, 9.51232553e-01],\n",
       "       [2.10930541e-01, 7.89069414e-01],\n",
       "       [3.98305625e-01, 6.01694345e-01],\n",
       "       [8.28697801e-01, 1.71302184e-01],\n",
       "       [2.97830433e-01, 7.02169597e-01],\n",
       "       [9.95612621e-01, 4.38729906e-03],\n",
       "       [9.99164581e-01, 8.35411833e-04],\n",
       "       [1.13458559e-01, 8.86541486e-01],\n",
       "       [4.84001100e-01, 5.15998900e-01],\n",
       "       [2.27675393e-01, 7.72324562e-01],\n",
       "       [5.27180582e-02, 9.47281957e-01],\n",
       "       [1.56622827e-02, 9.84337747e-01],\n",
       "       [9.97255862e-01, 2.74415524e-03],\n",
       "       [2.54481863e-02, 9.74551857e-01],\n",
       "       [9.86798704e-01, 1.32013122e-02],\n",
       "       [9.77987111e-01, 2.20128782e-02],\n",
       "       [1.99925695e-02, 9.80007470e-01],\n",
       "       [9.78160799e-01, 2.18392704e-02],\n",
       "       [8.54813039e-01, 1.45186961e-01],\n",
       "       [8.44988227e-01, 1.55011758e-01],\n",
       "       [9.90996480e-01, 9.00353957e-03],\n",
       "       [2.82681026e-02, 9.71731901e-01],\n",
       "       [8.36991608e-01, 1.63008347e-01],\n",
       "       [2.55602058e-02, 9.74439740e-01],\n",
       "       [1.44819366e-02, 9.85518098e-01],\n",
       "       [8.20490777e-01, 1.79509223e-01],\n",
       "       [9.96506512e-01, 3.49345431e-03],\n",
       "       [9.99948859e-01, 5.11783837e-05],\n",
       "       [8.92115951e-01, 1.07884057e-01],\n",
       "       [3.92835140e-02, 9.60716426e-01],\n",
       "       [9.99989271e-01, 1.07352307e-05],\n",
       "       [6.25262618e-01, 3.74737412e-01],\n",
       "       [9.86833990e-01, 1.31659694e-02],\n",
       "       [9.99219060e-01, 7.80954841e-04],\n",
       "       [6.29373491e-01, 3.70626509e-01],\n",
       "       [9.99995351e-01, 4.65720677e-06],\n",
       "       [9.98220503e-01, 1.77945918e-03],\n",
       "       [5.70298314e-01, 4.29701656e-01],\n",
       "       [9.96931553e-01, 3.06847715e-03],\n",
       "       [9.88456368e-01, 1.15436073e-02]], dtype=float32)"
      ]
     },
     "execution_count": 27,
     "metadata": {},
     "output_type": "execute_result"
    }
   ],
   "source": [
    "y_pred"
   ]
  },
  {
   "cell_type": "code",
   "execution_count": 28,
   "id": "d8efad21",
   "metadata": {},
   "outputs": [],
   "source": [
    "import numpy as np\n",
    "y_pred = np.argmax(y_pred, axis=1)"
   ]
  },
  {
   "cell_type": "code",
   "execution_count": 29,
   "id": "f54863a0",
   "metadata": {
    "scrolled": true
   },
   "outputs": [
    {
     "data": {
      "text/plain": [
       "array([0, 0, 0, 1, 1, 0, 1, 1, 1, 1, 1, 0, 1, 1, 0, 1, 0, 0, 0, 1, 1, 0,\n",
       "       1, 1, 1, 0, 1, 0, 0, 0, 0, 0, 1, 0, 1, 0, 1, 1, 0, 1, 1, 0, 0, 0,\n",
       "       0, 1, 1, 0, 1, 1, 1, 0, 1, 0, 0, 0, 0, 0, 1, 0, 0, 0, 0, 0, 1, 1,\n",
       "       0, 0, 0, 0, 0, 1, 1, 1, 0, 1, 0, 0, 0, 1, 1, 1, 0, 0, 0, 1, 1, 1,\n",
       "       0, 1, 1, 1, 0, 1, 1, 1, 1, 0, 1, 0, 0, 1, 1, 1, 1, 1, 0, 1, 0, 0,\n",
       "       1, 0, 0, 0, 0, 1, 0, 1, 1, 0, 0, 0, 0, 1, 0, 0, 0, 0, 0, 0, 0, 0,\n",
       "       0, 0], dtype=int64)"
      ]
     },
     "execution_count": 29,
     "metadata": {},
     "output_type": "execute_result"
    }
   ],
   "source": [
    "y_pred"
   ]
  },
  {
   "cell_type": "markdown",
   "id": "1d86f49f",
   "metadata": {},
   "source": [
    "Image is imported from test set."
   ]
  },
  {
   "cell_type": "code",
   "execution_count": 30,
   "id": "eec341d2",
   "metadata": {},
   "outputs": [],
   "source": [
    "from tensorflow.keras.preprocessing import image\n",
    "img=image.load_img('Dataset/Test/Uninfected/2.png',target_size=(224,224))"
   ]
  },
  {
   "cell_type": "markdown",
   "id": "34bbee7d",
   "metadata": {},
   "source": [
    "The image which will be given as input is preprocessed"
   ]
  },
  {
   "cell_type": "code",
   "execution_count": 31,
   "id": "9ece7f21",
   "metadata": {},
   "outputs": [
    {
     "data": {
      "text/plain": [
       "array([[[0., 0., 0.],\n",
       "        [0., 0., 0.],\n",
       "        [0., 0., 0.],\n",
       "        ...,\n",
       "        [0., 0., 0.],\n",
       "        [0., 0., 0.],\n",
       "        [0., 0., 0.]],\n",
       "\n",
       "       [[0., 0., 0.],\n",
       "        [0., 0., 0.],\n",
       "        [0., 0., 0.],\n",
       "        ...,\n",
       "        [0., 0., 0.],\n",
       "        [0., 0., 0.],\n",
       "        [0., 0., 0.]],\n",
       "\n",
       "       [[0., 0., 0.],\n",
       "        [0., 0., 0.],\n",
       "        [0., 0., 0.],\n",
       "        ...,\n",
       "        [0., 0., 0.],\n",
       "        [0., 0., 0.],\n",
       "        [0., 0., 0.]],\n",
       "\n",
       "       ...,\n",
       "\n",
       "       [[0., 0., 0.],\n",
       "        [0., 0., 0.],\n",
       "        [0., 0., 0.],\n",
       "        ...,\n",
       "        [0., 0., 0.],\n",
       "        [0., 0., 0.],\n",
       "        [0., 0., 0.]],\n",
       "\n",
       "       [[0., 0., 0.],\n",
       "        [0., 0., 0.],\n",
       "        [0., 0., 0.],\n",
       "        ...,\n",
       "        [0., 0., 0.],\n",
       "        [0., 0., 0.],\n",
       "        [0., 0., 0.]],\n",
       "\n",
       "       [[0., 0., 0.],\n",
       "        [0., 0., 0.],\n",
       "        [0., 0., 0.],\n",
       "        ...,\n",
       "        [0., 0., 0.],\n",
       "        [0., 0., 0.],\n",
       "        [0., 0., 0.]]], dtype=float32)"
      ]
     },
     "execution_count": 31,
     "metadata": {},
     "output_type": "execute_result"
    }
   ],
   "source": [
    "x=image.img_to_array(img)\n",
    "x"
   ]
  },
  {
   "cell_type": "code",
   "execution_count": 32,
   "id": "ccbd8e16",
   "metadata": {},
   "outputs": [
    {
     "data": {
      "text/plain": [
       "(224, 224, 3)"
      ]
     },
     "execution_count": 32,
     "metadata": {},
     "output_type": "execute_result"
    }
   ],
   "source": [
    "x.shape"
   ]
  },
  {
   "cell_type": "code",
   "execution_count": 33,
   "id": "b92b6096",
   "metadata": {},
   "outputs": [],
   "source": [
    "x=x/255"
   ]
  },
  {
   "cell_type": "code",
   "execution_count": 34,
   "id": "7db6a02f",
   "metadata": {},
   "outputs": [
    {
     "data": {
      "text/plain": [
       "(1, 224, 224, 3)"
      ]
     },
     "execution_count": 34,
     "metadata": {},
     "output_type": "execute_result"
    }
   ],
   "source": [
    "x=np.expand_dims(x,axis=0)\n",
    "img_data=preprocess_input(x)\n",
    "img_data.shape"
   ]
  },
  {
   "cell_type": "markdown",
   "id": "d1a84c64",
   "metadata": {},
   "source": [
    "loading model"
   ]
  },
  {
   "cell_type": "code",
   "execution_count": 36,
   "id": "6e48faed",
   "metadata": {},
   "outputs": [],
   "source": [
    "from tensorflow.keras.models import load_model\n",
    "model=load_model('model_vgg19.h5')"
   ]
  },
  {
   "cell_type": "code",
   "execution_count": 37,
   "id": "91701179",
   "metadata": {},
   "outputs": [
    {
     "data": {
      "text/plain": [
       "array([[0.00134487, 0.9986551 ]], dtype=float32)"
      ]
     },
     "execution_count": 37,
     "metadata": {},
     "output_type": "execute_result"
    }
   ],
   "source": [
    "model.predict(img_data)"
   ]
  },
  {
   "cell_type": "code",
   "execution_count": 39,
   "id": "c32a8e3d",
   "metadata": {},
   "outputs": [],
   "source": [
    "a=np.argmax(model.predict(img_data), axis=1)"
   ]
  },
  {
   "cell_type": "code",
   "execution_count": 40,
   "id": "36641e96",
   "metadata": {},
   "outputs": [
    {
     "name": "stdout",
     "output_type": "stream",
     "text": [
      "Uninfected\n"
     ]
    }
   ],
   "source": [
    "if(a==1):\n",
    "    print(\"Uninfected\")\n",
    "else:\n",
    "    print(\"Infected\")"
   ]
  },
  {
   "cell_type": "code",
   "execution_count": null,
   "id": "cd1ea768",
   "metadata": {},
   "outputs": [],
   "source": []
  }
 ],
 "metadata": {
  "kernelspec": {
   "display_name": "Python 3",
   "language": "python",
   "name": "python3"
  },
  "language_info": {
   "codemirror_mode": {
    "name": "ipython",
    "version": 3
   },
   "file_extension": ".py",
   "mimetype": "text/x-python",
   "name": "python",
   "nbconvert_exporter": "python",
   "pygments_lexer": "ipython3",
   "version": "3.7.7"
  }
 },
 "nbformat": 4,
 "nbformat_minor": 5
}
